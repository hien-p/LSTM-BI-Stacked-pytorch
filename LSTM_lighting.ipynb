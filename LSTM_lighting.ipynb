{
 "cells": [
  {
   "cell_type": "code",
   "execution_count": 2,
   "metadata": {},
   "outputs": [],
   "source": [
    "import torch\n",
    "import torch.nn as nn\n",
    "import torch.nn.functional as F\n",
    "\n",
    "\n",
    "import lightning as L\n",
    "    "
   ]
  },
  {
   "cell_type": "code",
   "execution_count": null,
   "metadata": {},
   "outputs": [],
   "source": [
    "\n",
    "# LSTMbyHand \n",
    "class LSTMhand(L.LightningModule):\n",
    "    def __init__(self):\n",
    "        \"\"\"\n",
    "        create and initialize the weight and Bias tennsor that we need to implement an LSTM unit\n",
    "        \"\"\"\n",
    "\n",
    "        super().__init__()\n",
    "\n",
    "        # create the weight and bias tensor for the network \n",
    "        # this time we will use normal ditstribution to randomly select an initializtion value for the weight\n",
    "        mean = torch.tensor(0.0)\n",
    "        std = torch.tensor(1.0)\n",
    "\n",
    "        # create parameters for the first weight \n",
    "        # we set requires_grad=True so that the weight can be updated during the training process\n",
    "        self.wlr1 = nn.Parameter(torch.normal(mean, std), requires_grad=True)\n",
    "        \n",
    "        # the second weight\n",
    "        self.wlr2 = nn.Parameter(torch.normal(mean, std), requires_grad=True)\n",
    "        self.blr1 = nn.Parameter(torch.tensor(0.), requires_grad=True)\n",
    "\n",
    "    def lstm_init(self, input_value, long_memory, short_memory):\n",
    "        # Do LSTM math\n",
    "        # we create long_remember_percent \n",
    "        # we multiple the short term memory with the weight \n",
    "        # and we add the input value multiple with the weight\n",
    "        # then we add with the bias\n",
    "        # then we use the sigmoid function to get the long_remember_percent\n",
    "        long_remember_percent = torch.sigmoid(short_memory * self.wlr1 + input_value * self.wlr2 + self.blr1)\n",
    "\n",
    "\n",
    "\n",
    "    def forward(self, input):\n",
    "        # make a forward pass through the LSTM unit\n",
    "\n",
    "\n",
    "    def configure_optimizers(self):\n",
    "        # create an optimizer\n",
    "\n",
    "    def traing_step(self, batch, batch_idx):\n",
    "        # do a training step \n",
    "        # caculate the loss \n"
   ]
  }
 ],
 "metadata": {
  "kernelspec": {
   "display_name": "env",
   "language": "python",
   "name": "python3"
  },
  "language_info": {
   "codemirror_mode": {
    "name": "ipython",
    "version": 3
   },
   "file_extension": ".py",
   "mimetype": "text/x-python",
   "name": "python",
   "nbconvert_exporter": "python",
   "pygments_lexer": "ipython3",
   "version": "3.9.6"
  }
 },
 "nbformat": 4,
 "nbformat_minor": 2
}
